{
 "cells": [
  {
   "cell_type": "markdown",
   "metadata": {},
   "source": [
    "## Jabari Crenshaw\n",
    "#### CSC 180, Intellgent Systems<br>Prof. Chen<br>Project 2"
   ]
  },
  {
   "cell_type": "markdown",
   "metadata": {},
   "source": [
    "### 0. Imports\n",
    "We will begin by doing some necessary import statements, and including a functions we will use to plot our model's ROC and Confusion Matrix. My personal function for printing model results will also be included."
   ]
  },
  {
   "cell_type": "code",
   "execution_count": 36,
   "metadata": {},
   "outputs": [],
   "source": [
    "import numpy as np\n",
    "import pandas as pd\n",
    "import matplotlib.pyplot as plt\n",
    "\n",
    "from sklearn import metrics, preprocessing\n",
    "from sklearn.model_selection import train_test_split\n",
    "from sklearn.metrics import confusion_matrix, classification_report, roc_curve, auc\n",
    "\n",
    "from tensorflow.keras import optimizers\n",
    "from tensorflow.keras.layers import Dense\n",
    "from tensorflow.keras.models import Sequential\n",
    "from tensorflow.keras.callbacks import EarlyStopping, ModelCheckpoint\n",
    "\n",
    "\n",
    "def plot_roc(pred,y):\n",
    "    fpr, tpr, thresholds = roc_curve(y, pred)\n",
    "    roc_auc = auc(fpr, tpr)\n",
    "\n",
    "    plt.figure()\n",
    "    plt.plot(fpr, tpr, label='ROC curve (area = %0.2f)' % roc_auc)\n",
    "    plt.plot([0, 1], [0, 1], 'k--')\n",
    "    plt.xlim([0.0, 1.0])\n",
    "    plt.ylim([0.0, 1.05])\n",
    "    plt.xlabel('False Positive Rate')\n",
    "    plt.ylabel('True Positive Rate')\n",
    "    plt.title('Receiver Operating Characteristic (ROC)')\n",
    "    plt.legend(loc=\"lower right\")\n",
    "    plt.show()\n",
    "\n",
    "def plot_confusion_matrix(cm, names, title='Confusion matrix', cmap=plt.cm.Blues):\n",
    "    plt.imshow(cm, interpolation='nearest', cmap=cmap)\n",
    "    plt.title(title)\n",
    "    plt.colorbar()\n",
    "    tick_marks = np.arange(len(names))\n",
    "    plt.xticks(tick_marks, names, rotation=45)\n",
    "    plt.yticks(tick_marks, names)\n",
    "    plt.tight_layout()\n",
    "    plt.ylabel('True label')\n",
    "    plt.xlabel('Predicted label')\n",
    "\n",
    "def print_results(y_true, pred) -> None:\n",
    "    print(classification_report(y_true, pred))\n",
    "\n",
    "    cm = confusion_matrix(y_true, pred)\n",
    "    print(cm)\n",
    "    print('Plotting confusion matrix')\n",
    "    plt.figure()\n",
    "    plot_confusion_matrix(cm, [0, 1])\n",
    "    plt.show()"
   ]
  },
  {
   "cell_type": "markdown",
   "metadata": {},
   "source": [
    "### 1. Reading Network Intrustion CSV data\n",
    "##### We will first read all the lines of data we have for network intrusion analytics. After this data is read, we will remove all instances of duplicate entries and drop columns which are N/A or NaN."
   ]
  },
  {
   "cell_type": "markdown",
   "metadata": {},
   "source": [
    "We will also manually apply labels to each column in the DataFrame."
   ]
  },
  {
   "cell_type": "code",
   "execution_count": 2,
   "metadata": {},
   "outputs": [
    {
     "name": "stdout",
     "output_type": "stream",
     "text": [
      "Number of duplicate and N/A entries removed: 57265\n",
      "Number of entries remaining: 145585\n"
     ]
    }
   ],
   "source": [
    "df = pd.read_csv('./data/network_intrusion_data.csv')\n",
    "count = df.shape[0]\n",
    "\n",
    "df.columns = ['duration', 'protocol_type', 'service', 'flag', 'src_bytes',\n",
    "        'dst_bytes', 'land', 'wrong_fragment', 'urgent', 'hot', 'num_failed_logins',\n",
    "        'logged_in', 'num_compromised', 'root_shell', 'su_attempted', 'num_root',\n",
    "        'num_file_creations', 'num_shells', 'num_access_files', 'num_outbound_cmds',\n",
    "        'is_host_login', 'is_guest_login', 'count', 'srv_count', 'serror_rate',\n",
    "        'srv_serror_rate', 'rerror_rate', 'srv_rerror_rate', 'same_srv_rate',\n",
    "        'diff_srv_rate', 'srv_diff_host_rate', 'dst_host_count', 'dst_host_srv_count',\n",
    "        'dst_host_same_srv_rate', 'dst_host_diff_srv_rate', 'dst_host_same_src_port_rate',\n",
    "        'dst_host_srv_diff_host_rate', 'dst_host_serror_rate', 'dst_host_srv_serror_rate',\n",
    "        'dst_host_rerror_rate', 'dst_host_srv_rerror_rate', 'outcome']\n",
    "\n",
    "#Remove redundant records\n",
    "df.drop_duplicates(inplace=True)\n",
    "count = count - df.shape[0]\n",
    "\n",
    "#Remove records with missing values\n",
    "df.dropna(inplace=True)\n",
    "count = count - df.shape[0]\n",
    "\n",
    "print(f'Number of duplicate and N/A entries removed: {count - df.shape[0]}')\n",
    "print(f'Number of entries remaining: {df.shape[0]}')\n"
   ]
  },
  {
   "cell_type": "markdown",
   "metadata": {},
   "source": [
    "### 2. Encoding and Normalizing Features\n",
    "##### We will now encode the categorical features of our dataframe and normalize numeric features.\n",
    "We are careful when encoding our input features. I will use One-Hot encoding to encode the 'outcome' feature of the DataFrame."
   ]
  },
  {
   "cell_type": "code",
   "execution_count": 3,
   "metadata": {},
   "outputs": [
    {
     "data": {
      "text/plain": [
       "duration                       0.000000e+00\n",
       "protocol_type                  1.000000e+00\n",
       "service                        2.200000e+01\n",
       "flag                           9.000000e+00\n",
       "src_bytes                      3.446905e-07\n",
       "dst_bytes                      9.426884e-05\n",
       "land                           0.000000e+00\n",
       "wrong_fragment                 0.000000e+00\n",
       "urgent                         0.000000e+00\n",
       "hot                            0.000000e+00\n",
       "num_failed_logins              0.000000e+00\n",
       "logged_in                      1.000000e+00\n",
       "num_compromised                0.000000e+00\n",
       "root_shell                     0.000000e+00\n",
       "su_attempted                   0.000000e+00\n",
       "num_root                       0.000000e+00\n",
       "num_file_creations             0.000000e+00\n",
       "num_shells                     0.000000e+00\n",
       "num_access_files               0.000000e+00\n",
       "num_outbound_cmds                       NaN\n",
       "is_host_login                           NaN\n",
       "is_guest_login                 0.000000e+00\n",
       "count                          1.565558e-02\n",
       "srv_count                      1.565558e-02\n",
       "serror_rate                    0.000000e+00\n",
       "srv_serror_rate                0.000000e+00\n",
       "rerror_rate                    0.000000e+00\n",
       "srv_rerror_rate                0.000000e+00\n",
       "same_srv_rate                  1.000000e+00\n",
       "diff_srv_rate                  0.000000e+00\n",
       "srv_diff_host_rate             0.000000e+00\n",
       "dst_host_count                 7.450980e-02\n",
       "dst_host_srv_count             7.450980e-02\n",
       "dst_host_same_srv_rate         1.000000e+00\n",
       "dst_host_diff_srv_rate         0.000000e+00\n",
       "dst_host_same_src_port_rate    5.000000e-02\n",
       "dst_host_srv_diff_host_rate    0.000000e+00\n",
       "dst_host_serror_rate           0.000000e+00\n",
       "dst_host_srv_serror_rate       0.000000e+00\n",
       "dst_host_rerror_rate           0.000000e+00\n",
       "dst_host_srv_rerror_rate       0.000000e+00\n",
       "outcome_0                      1.000000e+00\n",
       "outcome_1                      0.000000e+00\n",
       "Name: 0, dtype: float64"
      ]
     },
     "execution_count": 3,
     "metadata": {},
     "output_type": "execute_result"
    }
   ],
   "source": [
    "#Numerical Normalization\n",
    "for i in range(len(df.columns)):\n",
    "    s = str(df.columns[i])\n",
    "    if s == 'protocol_type' or s == 'service' or s == 'flag' or s == 'outcome':\n",
    "        continue\n",
    "    else:\n",
    "        df[s] = (df[s]-df[s].min())/(df[s].max()-df[s].min())\n",
    "\n",
    "#Categorical Encoding\n",
    "    #Manual encoding for 'outcome' feature.\n",
    "    #0 if outcome is normal, 1 for all other (malicious) outcomes\n",
    "    #Simulate One-Hot 'outcome' feature aftwards\n",
    "encoder = lambda x: 0 if x == 'normal.' else 1\n",
    "\n",
    "df['outcome'] = df['outcome'].apply(encoder)\n",
    "concat = pd.get_dummies(df['outcome'])\n",
    "df = pd.concat([df, concat], axis=1)\n",
    "df.rename(columns={concat.columns[0]:'outcome_0', concat.columns[1]: 'outcome_1'}, inplace=True)\n",
    "df.drop(columns='outcome', inplace=True)\n",
    "\n",
    "    #Using LabelEncoder to encode all other categorical features.\n",
    "le = preprocessing.LabelEncoder()\n",
    "target = ['protocol_type', 'service', 'flag']\n",
    "for col in target:\n",
    "    df[col] = le.fit_transform(df[col].values)\n",
    "\n",
    "#Observe any N/A or NaN column with this statement\n",
    "df.iloc[0]"
   ]
  },
  {
   "cell_type": "markdown",
   "metadata": {},
   "source": [
    "### 3. Remove columns which are N/A or NaN from the DataFrame.\n",
    "In the above statement, we can observe some NaN values in 2 columns of the dataframe. We will continue by removing any columns which hold NaN values."
   ]
  },
  {
   "cell_type": "code",
   "execution_count": 4,
   "metadata": {},
   "outputs": [
    {
     "data": {
      "text/plain": [
       "duration                       0.000000e+00\n",
       "protocol_type                  1.000000e+00\n",
       "service                        2.200000e+01\n",
       "flag                           9.000000e+00\n",
       "src_bytes                      3.446905e-07\n",
       "dst_bytes                      9.426884e-05\n",
       "land                           0.000000e+00\n",
       "wrong_fragment                 0.000000e+00\n",
       "urgent                         0.000000e+00\n",
       "hot                            0.000000e+00\n",
       "num_failed_logins              0.000000e+00\n",
       "logged_in                      1.000000e+00\n",
       "num_compromised                0.000000e+00\n",
       "root_shell                     0.000000e+00\n",
       "su_attempted                   0.000000e+00\n",
       "num_root                       0.000000e+00\n",
       "num_file_creations             0.000000e+00\n",
       "num_shells                     0.000000e+00\n",
       "num_access_files               0.000000e+00\n",
       "is_guest_login                 0.000000e+00\n",
       "count                          1.565558e-02\n",
       "srv_count                      1.565558e-02\n",
       "serror_rate                    0.000000e+00\n",
       "srv_serror_rate                0.000000e+00\n",
       "rerror_rate                    0.000000e+00\n",
       "srv_rerror_rate                0.000000e+00\n",
       "same_srv_rate                  1.000000e+00\n",
       "diff_srv_rate                  0.000000e+00\n",
       "srv_diff_host_rate             0.000000e+00\n",
       "dst_host_count                 7.450980e-02\n",
       "dst_host_srv_count             7.450980e-02\n",
       "dst_host_same_srv_rate         1.000000e+00\n",
       "dst_host_diff_srv_rate         0.000000e+00\n",
       "dst_host_same_src_port_rate    5.000000e-02\n",
       "dst_host_srv_diff_host_rate    0.000000e+00\n",
       "dst_host_serror_rate           0.000000e+00\n",
       "dst_host_srv_serror_rate       0.000000e+00\n",
       "dst_host_rerror_rate           0.000000e+00\n",
       "dst_host_srv_rerror_rate       0.000000e+00\n",
       "outcome_0                      1.000000e+00\n",
       "outcome_1                      0.000000e+00\n",
       "Name: 0, dtype: float64"
      ]
     },
     "execution_count": 4,
     "metadata": {},
     "output_type": "execute_result"
    }
   ],
   "source": [
    "df.dropna(axis=1, how='any', inplace=True)\n",
    "df.iloc[0]"
   ]
  },
  {
   "cell_type": "markdown",
   "metadata": {},
   "source": [
    "Let's take the time to check our DataFrame before we continue."
   ]
  },
  {
   "cell_type": "code",
   "execution_count": 5,
   "metadata": {},
   "outputs": [
    {
     "data": {
      "text/html": [
       "<div>\n",
       "<style scoped>\n",
       "    .dataframe tbody tr th:only-of-type {\n",
       "        vertical-align: middle;\n",
       "    }\n",
       "\n",
       "    .dataframe tbody tr th {\n",
       "        vertical-align: top;\n",
       "    }\n",
       "\n",
       "    .dataframe thead th {\n",
       "        text-align: right;\n",
       "    }\n",
       "</style>\n",
       "<table border=\"1\" class=\"dataframe\">\n",
       "  <thead>\n",
       "    <tr style=\"text-align: right;\">\n",
       "      <th></th>\n",
       "      <th>duration</th>\n",
       "      <th>protocol_type</th>\n",
       "      <th>service</th>\n",
       "      <th>flag</th>\n",
       "      <th>src_bytes</th>\n",
       "      <th>dst_bytes</th>\n",
       "      <th>land</th>\n",
       "      <th>wrong_fragment</th>\n",
       "      <th>urgent</th>\n",
       "      <th>hot</th>\n",
       "      <th>...</th>\n",
       "      <th>dst_host_same_srv_rate</th>\n",
       "      <th>dst_host_diff_srv_rate</th>\n",
       "      <th>dst_host_same_src_port_rate</th>\n",
       "      <th>dst_host_srv_diff_host_rate</th>\n",
       "      <th>dst_host_serror_rate</th>\n",
       "      <th>dst_host_srv_serror_rate</th>\n",
       "      <th>dst_host_rerror_rate</th>\n",
       "      <th>dst_host_srv_rerror_rate</th>\n",
       "      <th>outcome_0</th>\n",
       "      <th>outcome_1</th>\n",
       "    </tr>\n",
       "  </thead>\n",
       "  <tbody>\n",
       "    <tr>\n",
       "      <th>0</th>\n",
       "      <td>0.0</td>\n",
       "      <td>1</td>\n",
       "      <td>22</td>\n",
       "      <td>9</td>\n",
       "      <td>3.446905e-07</td>\n",
       "      <td>0.000094</td>\n",
       "      <td>0.0</td>\n",
       "      <td>0.0</td>\n",
       "      <td>0.0</td>\n",
       "      <td>0.0</td>\n",
       "      <td>...</td>\n",
       "      <td>1.0</td>\n",
       "      <td>0.0</td>\n",
       "      <td>0.05</td>\n",
       "      <td>0.0</td>\n",
       "      <td>0.0</td>\n",
       "      <td>0.0</td>\n",
       "      <td>0.0</td>\n",
       "      <td>0.0</td>\n",
       "      <td>1</td>\n",
       "      <td>0</td>\n",
       "    </tr>\n",
       "    <tr>\n",
       "      <th>1</th>\n",
       "      <td>0.0</td>\n",
       "      <td>1</td>\n",
       "      <td>22</td>\n",
       "      <td>9</td>\n",
       "      <td>3.389216e-07</td>\n",
       "      <td>0.000259</td>\n",
       "      <td>0.0</td>\n",
       "      <td>0.0</td>\n",
       "      <td>0.0</td>\n",
       "      <td>0.0</td>\n",
       "      <td>...</td>\n",
       "      <td>1.0</td>\n",
       "      <td>0.0</td>\n",
       "      <td>0.03</td>\n",
       "      <td>0.0</td>\n",
       "      <td>0.0</td>\n",
       "      <td>0.0</td>\n",
       "      <td>0.0</td>\n",
       "      <td>0.0</td>\n",
       "      <td>1</td>\n",
       "      <td>0</td>\n",
       "    </tr>\n",
       "    <tr>\n",
       "      <th>2</th>\n",
       "      <td>0.0</td>\n",
       "      <td>1</td>\n",
       "      <td>22</td>\n",
       "      <td>9</td>\n",
       "      <td>3.158461e-07</td>\n",
       "      <td>0.000259</td>\n",
       "      <td>0.0</td>\n",
       "      <td>0.0</td>\n",
       "      <td>0.0</td>\n",
       "      <td>0.0</td>\n",
       "      <td>...</td>\n",
       "      <td>1.0</td>\n",
       "      <td>0.0</td>\n",
       "      <td>0.03</td>\n",
       "      <td>0.0</td>\n",
       "      <td>0.0</td>\n",
       "      <td>0.0</td>\n",
       "      <td>0.0</td>\n",
       "      <td>0.0</td>\n",
       "      <td>1</td>\n",
       "      <td>0</td>\n",
       "    </tr>\n",
       "    <tr>\n",
       "      <th>3</th>\n",
       "      <td>0.0</td>\n",
       "      <td>1</td>\n",
       "      <td>22</td>\n",
       "      <td>9</td>\n",
       "      <td>3.129617e-07</td>\n",
       "      <td>0.000394</td>\n",
       "      <td>0.0</td>\n",
       "      <td>0.0</td>\n",
       "      <td>0.0</td>\n",
       "      <td>0.0</td>\n",
       "      <td>...</td>\n",
       "      <td>1.0</td>\n",
       "      <td>0.0</td>\n",
       "      <td>0.02</td>\n",
       "      <td>0.0</td>\n",
       "      <td>0.0</td>\n",
       "      <td>0.0</td>\n",
       "      <td>0.0</td>\n",
       "      <td>0.0</td>\n",
       "      <td>1</td>\n",
       "      <td>0</td>\n",
       "    </tr>\n",
       "    <tr>\n",
       "      <th>4</th>\n",
       "      <td>0.0</td>\n",
       "      <td>1</td>\n",
       "      <td>22</td>\n",
       "      <td>9</td>\n",
       "      <td>3.129617e-07</td>\n",
       "      <td>0.000394</td>\n",
       "      <td>0.0</td>\n",
       "      <td>0.0</td>\n",
       "      <td>0.0</td>\n",
       "      <td>0.0</td>\n",
       "      <td>...</td>\n",
       "      <td>1.0</td>\n",
       "      <td>0.0</td>\n",
       "      <td>0.02</td>\n",
       "      <td>0.0</td>\n",
       "      <td>0.0</td>\n",
       "      <td>0.0</td>\n",
       "      <td>0.0</td>\n",
       "      <td>0.0</td>\n",
       "      <td>1</td>\n",
       "      <td>0</td>\n",
       "    </tr>\n",
       "  </tbody>\n",
       "</table>\n",
       "<p>5 rows × 41 columns</p>\n",
       "</div>"
      ],
      "text/plain": [
       "   duration  protocol_type  service  flag     src_bytes  dst_bytes  land  \\\n",
       "0       0.0              1       22     9  3.446905e-07   0.000094   0.0   \n",
       "1       0.0              1       22     9  3.389216e-07   0.000259   0.0   \n",
       "2       0.0              1       22     9  3.158461e-07   0.000259   0.0   \n",
       "3       0.0              1       22     9  3.129617e-07   0.000394   0.0   \n",
       "4       0.0              1       22     9  3.129617e-07   0.000394   0.0   \n",
       "\n",
       "   wrong_fragment  urgent  hot  ...  dst_host_same_srv_rate  \\\n",
       "0             0.0     0.0  0.0  ...                     1.0   \n",
       "1             0.0     0.0  0.0  ...                     1.0   \n",
       "2             0.0     0.0  0.0  ...                     1.0   \n",
       "3             0.0     0.0  0.0  ...                     1.0   \n",
       "4             0.0     0.0  0.0  ...                     1.0   \n",
       "\n",
       "   dst_host_diff_srv_rate  dst_host_same_src_port_rate  \\\n",
       "0                     0.0                         0.05   \n",
       "1                     0.0                         0.03   \n",
       "2                     0.0                         0.03   \n",
       "3                     0.0                         0.02   \n",
       "4                     0.0                         0.02   \n",
       "\n",
       "   dst_host_srv_diff_host_rate  dst_host_serror_rate  \\\n",
       "0                          0.0                   0.0   \n",
       "1                          0.0                   0.0   \n",
       "2                          0.0                   0.0   \n",
       "3                          0.0                   0.0   \n",
       "4                          0.0                   0.0   \n",
       "\n",
       "   dst_host_srv_serror_rate  dst_host_rerror_rate  dst_host_srv_rerror_rate  \\\n",
       "0                       0.0                   0.0                       0.0   \n",
       "1                       0.0                   0.0                       0.0   \n",
       "2                       0.0                   0.0                       0.0   \n",
       "3                       0.0                   0.0                       0.0   \n",
       "4                       0.0                   0.0                       0.0   \n",
       "\n",
       "   outcome_0  outcome_1  \n",
       "0          1          0  \n",
       "1          1          0  \n",
       "2          1          0  \n",
       "3          1          0  \n",
       "4          1          0  \n",
       "\n",
       "[5 rows x 41 columns]"
      ]
     },
     "execution_count": 5,
     "metadata": {},
     "output_type": "execute_result"
    }
   ],
   "source": [
    "df.head()"
   ]
  },
  {
   "cell_type": "markdown",
   "metadata": {},
   "source": [
    "### 4. Gathering x and y inputs for model training.\n",
    "##### We will now determine the x and y inputs for our model and being training afterwards."
   ]
  },
  {
   "cell_type": "code",
   "execution_count": 6,
   "metadata": {},
   "outputs": [
    {
     "data": {
      "text/plain": [
       "((145585, 39),\n",
       " array([[0.0e+00, 1.0e+00, 2.2e+01, ..., 0.0e+00, 0.0e+00, 0.0e+00],\n",
       "        [0.0e+00, 1.0e+00, 2.2e+01, ..., 0.0e+00, 0.0e+00, 0.0e+00],\n",
       "        [0.0e+00, 1.0e+00, 2.2e+01, ..., 0.0e+00, 0.0e+00, 0.0e+00],\n",
       "        ...,\n",
       "        [0.0e+00, 1.0e+00, 2.2e+01, ..., 1.0e-02, 0.0e+00, 0.0e+00],\n",
       "        [0.0e+00, 1.0e+00, 2.2e+01, ..., 1.0e-02, 0.0e+00, 0.0e+00],\n",
       "        [0.0e+00, 1.0e+00, 2.2e+01, ..., 1.0e-02, 0.0e+00, 0.0e+00]]),\n",
       " (145585, 2),\n",
       " array([[1, 0],\n",
       "        [1, 0],\n",
       "        [1, 0],\n",
       "        ...,\n",
       "        [1, 0],\n",
       "        [1, 0],\n",
       "        [1, 0]], dtype=uint8))"
      ]
     },
     "execution_count": 6,
     "metadata": {},
     "output_type": "execute_result"
    }
   ],
   "source": [
    "'''\n",
    "Y input value will be the One-Hot encoding between 0 and 1 values\n",
    "which represent normal connections or malicious attacks.\n",
    "'''\n",
    "y = np.column_stack( (df['outcome_0'], df['outcome_1']) )\n",
    "\n",
    "'''\n",
    "Our x input will be every other column in the DataFrame. We wil take a\n",
    "subset of the columns of the DataFrame which are not related to 'outcome'.\n",
    "'''\n",
    "#df.drop(columns='outcome', inplace=True)\n",
    "x = df[[col for col in df.columns if 'outcome' not in col]].values\n",
    "\n",
    "'''\n",
    "Our Y value in this project will have 2 columns because we performed One-Hot encoding\n",
    "for the two possible outcomes.\n",
    "We can confirm that both X and Y have the same number of rows.\n",
    "'''\n",
    "x.shape, x, y.shape, y"
   ]
  },
  {
   "cell_type": "markdown",
   "metadata": {},
   "source": [
    "### 5. Model Training and Testing\n",
    "##### We will now build and experiment with some training models and record their performance."
   ]
  },
  {
   "cell_type": "code",
   "execution_count": 17,
   "metadata": {},
   "outputs": [],
   "source": [
    "x_train, x_test, y_train, y_test = train_test_split(x, y, test_size=0.25, random_state=42)"
   ]
  },
  {
   "cell_type": "markdown",
   "metadata": {},
   "source": [
    "##### Test Series 1 - Activation Functions"
   ]
  },
  {
   "cell_type": "markdown",
   "metadata": {},
   "source": [
    "Series 1, Test 1 - Tanh"
   ]
  },
  {
   "cell_type": "code",
   "execution_count": 23,
   "metadata": {},
   "outputs": [
    {
     "name": "stdout",
     "output_type": "stream",
     "text": [
      "Epoch 00007: early stopping\n",
      "Epoch 00011: early stopping\n",
      "Epoch 00010: early stopping\n",
      "Epoch 00006: early stopping\n",
      "Epoch 00006: early stopping\n",
      "Model training has completed. Loading best model.\n",
      "              precision    recall  f1-score   support\n",
      "\n",
      "           0       0.00      0.00      0.00     21938\n",
      "           1       0.40      1.00      0.57     14459\n",
      "\n",
      "    accuracy                           0.40     36397\n",
      "   macro avg       0.20      0.50      0.28     36397\n",
      "weighted avg       0.16      0.40      0.23     36397\n",
      "\n",
      "[[    0 21938]\n",
      " [    0 14459]]\n",
      "Plotting confusion matrix\n"
     ]
    },
    {
     "name": "stderr",
     "output_type": "stream",
     "text": [
      "c:\\Users\\yyyeeeaaahhh\\anaconda3\\lib\\site-packages\\sklearn\\metrics\\_classification.py:1245: UndefinedMetricWarning: Precision and F-score are ill-defined and being set to 0.0 in labels with no predicted samples. Use `zero_division` parameter to control this behavior.\n",
      "  _warn_prf(average, modifier, msg_start, len(result))\n",
      "c:\\Users\\yyyeeeaaahhh\\anaconda3\\lib\\site-packages\\sklearn\\metrics\\_classification.py:1245: UndefinedMetricWarning: Precision and F-score are ill-defined and being set to 0.0 in labels with no predicted samples. Use `zero_division` parameter to control this behavior.\n",
      "  _warn_prf(average, modifier, msg_start, len(result))\n",
      "c:\\Users\\yyyeeeaaahhh\\anaconda3\\lib\\site-packages\\sklearn\\metrics\\_classification.py:1245: UndefinedMetricWarning: Precision and F-score are ill-defined and being set to 0.0 in labels with no predicted samples. Use `zero_division` parameter to control this behavior.\n",
      "  _warn_prf(average, modifier, msg_start, len(result))\n"
     ]
    },
    {
     "data": {
      "image/png": "[encoded data removed]",
      "text/plain": [
       "<Figure size 432x288 with 2 Axes>"
      ]
     },
     "metadata": {
      "needs_background": "light"
     },
     "output_type": "display_data"
    },
    {
     "data": {
      "image/png": "[encoded data removed]",
      "text/plain": [
       "<Figure size 432x288 with 1 Axes>"
      ]
     },
     "metadata": {
      "needs_background": "light"
     },
     "output_type": "display_data"
    }
   ],
   "source": [
    "#Best model out of 5 runs\n",
    "checkpointer = ModelCheckpoint(filepath=\"dnn/best_tanh_weights.hdf5\", verbose=0)\n",
    "for i in range(5):\n",
    "    model = Sequential(\n",
    "        [\n",
    "            Dense(32, input_dim=x.shape[1], activation='tanh'),\n",
    "            Dense(12, activation='tanh'),\n",
    "            Dense(y.shape[1], activation='tanh')\n",
    "        ]\n",
    "    )\n",
    "\n",
    "    model.compile(loss='categorical_crossentropy', optimizer='adam')\n",
    "    monitor = EarlyStopping(monitor='val_loss', min_delta=2.5e-3, patience=5,\n",
    "        verbose=2, mode='auto')\n",
    "    model.fit(x_train, y_train, validation_data=(x_test, y_test),\n",
    "        callbacks=[monitor,checkpointer], verbose=0, epochs=200)\n",
    "\n",
    "print('Model training has completed. Loading best model.')\n",
    "model.load_weights(\"dnn/best_tanh_weights.hdf5\")\n",
    "\n",
    "pred = np.argmax(model.predict(x_test), axis=1)\n",
    "y_true = np.argmax(y_test, axis=1)\n",
    "\n",
    "print_results(y_true, pred)\n",
    "\n",
    "pred = model.predict(x_test)[:,1]\n",
    "plot_roc(pred, y_true)\n"
   ]
  },
  {
   "cell_type": "markdown",
   "metadata": {},
   "source": [
    "Series 1, Test 2 - Relu"
   ]
  },
  {
   "cell_type": "code",
   "execution_count": 28,
   "metadata": {},
   "outputs": [
    {
     "name": "stdout",
     "output_type": "stream",
     "text": [
      "Epoch 00005: early stopping\n",
      "Epoch 00005: early stopping\n",
      "Epoch 00005: early stopping\n",
      "Epoch 00005: early stopping\n",
      "Epoch 00005: early stopping\n",
      "Model training has completed. Loading best model.\n",
      "              precision    recall  f1-score   support\n",
      "\n",
      "           0       0.60      1.00      0.75     21938\n",
      "           1       0.00      0.00      0.00     14459\n",
      "\n",
      "    accuracy                           0.60     36397\n",
      "   macro avg       0.30      0.50      0.38     36397\n",
      "weighted avg       0.36      0.60      0.45     36397\n",
      "\n",
      "[[21938     0]\n",
      " [14459     0]]\n",
      "Plotting confusion matrix\n"
     ]
    },
    {
     "name": "stderr",
     "output_type": "stream",
     "text": [
      "c:\\Users\\yyyeeeaaahhh\\anaconda3\\lib\\site-packages\\sklearn\\metrics\\_classification.py:1245: UndefinedMetricWarning: Precision and F-score are ill-defined and being set to 0.0 in labels with no predicted samples. Use `zero_division` parameter to control this behavior.\n",
      "  _warn_prf(average, modifier, msg_start, len(result))\n",
      "c:\\Users\\yyyeeeaaahhh\\anaconda3\\lib\\site-packages\\sklearn\\metrics\\_classification.py:1245: UndefinedMetricWarning: Precision and F-score are ill-defined and being set to 0.0 in labels with no predicted samples. Use `zero_division` parameter to control this behavior.\n",
      "  _warn_prf(average, modifier, msg_start, len(result))\n",
      "c:\\Users\\yyyeeeaaahhh\\anaconda3\\lib\\site-packages\\sklearn\\metrics\\_classification.py:1245: UndefinedMetricWarning: Precision and F-score are ill-defined and being set to 0.0 in labels with no predicted samples. Use `zero_division` parameter to control this behavior.\n",
      "  _warn_prf(average, modifier, msg_start, len(result))\n"
     ]
    },
    {
     "data": {
      "image/png": "[encoded data removed]",
      "text/plain": [
       "<Figure size 432x288 with 2 Axes>"
      ]
     },
     "metadata": {
      "needs_background": "light"
     },
     "output_type": "display_data"
    },
    {
     "ename": "ValueError",
     "evalue": "Input contains NaN, infinity or a value too large for dtype('float32').",
     "output_type": "error",
     "traceback": [
      "\u001b[1;31m---------------------------------------------------------------------------\u001b[0m",
      "\u001b[1;31mValueError\u001b[0m                                Traceback (most recent call last)",
      "\u001b[1;32m<ipython-input-28-c56ee6dd0e6b>\u001b[0m in \u001b[0;36m<module>\u001b[1;34m\u001b[0m\n\u001b[0;32m     26\u001b[0m \u001b[1;33m\u001b[0m\u001b[0m\n\u001b[0;32m     27\u001b[0m \u001b[0mpred\u001b[0m \u001b[1;33m=\u001b[0m \u001b[0mmodel\u001b[0m\u001b[1;33m.\u001b[0m\u001b[0mpredict\u001b[0m\u001b[1;33m(\u001b[0m\u001b[0mx_test\u001b[0m\u001b[1;33m)\u001b[0m\u001b[1;33m[\u001b[0m\u001b[1;33m:\u001b[0m\u001b[1;33m,\u001b[0m\u001b[1;36m1\u001b[0m\u001b[1;33m]\u001b[0m\u001b[1;33m\u001b[0m\u001b[1;33m\u001b[0m\u001b[0m\n\u001b[1;32m---> 28\u001b[1;33m \u001b[0mplot_roc\u001b[0m\u001b[1;33m(\u001b[0m\u001b[0mpred\u001b[0m\u001b[1;33m,\u001b[0m \u001b[0my_true\u001b[0m\u001b[1;33m)\u001b[0m\u001b[1;33m\u001b[0m\u001b[1;33m\u001b[0m\u001b[0m\n\u001b[0m",
      "\u001b[1;32m<ipython-input-1-dad599eca075>\u001b[0m in \u001b[0;36mplot_roc\u001b[1;34m(pred, y)\u001b[0m\n\u001b[0;32m     13\u001b[0m \u001b[1;33m\u001b[0m\u001b[0m\n\u001b[0;32m     14\u001b[0m \u001b[1;32mdef\u001b[0m \u001b[0mplot_roc\u001b[0m\u001b[1;33m(\u001b[0m\u001b[0mpred\u001b[0m\u001b[1;33m,\u001b[0m\u001b[0my\u001b[0m\u001b[1;33m)\u001b[0m\u001b[1;33m:\u001b[0m\u001b[1;33m\u001b[0m\u001b[1;33m\u001b[0m\u001b[0m\n\u001b[1;32m---> 15\u001b[1;33m     \u001b[0mfpr\u001b[0m\u001b[1;33m,\u001b[0m \u001b[0mtpr\u001b[0m\u001b[1;33m,\u001b[0m \u001b[0mthresholds\u001b[0m \u001b[1;33m=\u001b[0m \u001b[0mroc_curve\u001b[0m\u001b[1;33m(\u001b[0m\u001b[0my\u001b[0m\u001b[1;33m,\u001b[0m \u001b[0mpred\u001b[0m\u001b[1;33m)\u001b[0m\u001b[1;33m\u001b[0m\u001b[1;33m\u001b[0m\u001b[0m\n\u001b[0m\u001b[0;32m     16\u001b[0m     \u001b[0mroc_auc\u001b[0m \u001b[1;33m=\u001b[0m \u001b[0mauc\u001b[0m\u001b[1;33m(\u001b[0m\u001b[0mfpr\u001b[0m\u001b[1;33m,\u001b[0m \u001b[0mtpr\u001b[0m\u001b[1;33m)\u001b[0m\u001b[1;33m\u001b[0m\u001b[1;33m\u001b[0m\u001b[0m\n\u001b[0;32m     17\u001b[0m \u001b[1;33m\u001b[0m\u001b[0m\n",
      "\u001b[1;32mc:\\Users\\yyyeeeaaahhh\\anaconda3\\lib\\site-packages\\sklearn\\utils\\validation.py\u001b[0m in \u001b[0;36minner_f\u001b[1;34m(*args, **kwargs)\u001b[0m\n\u001b[0;32m     61\u001b[0m             \u001b[0mextra_args\u001b[0m \u001b[1;33m=\u001b[0m \u001b[0mlen\u001b[0m\u001b[1;33m(\u001b[0m\u001b[0margs\u001b[0m\u001b[1;33m)\u001b[0m \u001b[1;33m-\u001b[0m \u001b[0mlen\u001b[0m\u001b[1;33m(\u001b[0m\u001b[0mall_args\u001b[0m\u001b[1;33m)\u001b[0m\u001b[1;33m\u001b[0m\u001b[1;33m\u001b[0m\u001b[0m\n\u001b[0;32m     62\u001b[0m             \u001b[1;32mif\u001b[0m \u001b[0mextra_args\u001b[0m \u001b[1;33m<=\u001b[0m \u001b[1;36m0\u001b[0m\u001b[1;33m:\u001b[0m\u001b[1;33m\u001b[0m\u001b[1;33m\u001b[0m\u001b[0m\n\u001b[1;32m---> 63\u001b[1;33m                 \u001b[1;32mreturn\u001b[0m \u001b[0mf\u001b[0m\u001b[1;33m(\u001b[0m\u001b[1;33m*\u001b[0m\u001b[0margs\u001b[0m\u001b[1;33m,\u001b[0m \u001b[1;33m**\u001b[0m\u001b[0mkwargs\u001b[0m\u001b[1;33m)\u001b[0m\u001b[1;33m\u001b[0m\u001b[1;33m\u001b[0m\u001b[0m\n\u001b[0m\u001b[0;32m     64\u001b[0m \u001b[1;33m\u001b[0m\u001b[0m\n\u001b[0;32m     65\u001b[0m             \u001b[1;31m# extra_args > 0\u001b[0m\u001b[1;33m\u001b[0m\u001b[1;33m\u001b[0m\u001b[1;33m\u001b[0m\u001b[0m\n",
      "\u001b[1;32mc:\\Users\\yyyeeeaaahhh\\anaconda3\\lib\\site-packages\\sklearn\\metrics\\_ranking.py\u001b[0m in \u001b[0;36mroc_curve\u001b[1;34m(y_true, y_score, pos_label, sample_weight, drop_intermediate)\u001b[0m\n\u001b[0;32m    911\u001b[0m \u001b[1;33m\u001b[0m\u001b[0m\n\u001b[0;32m    912\u001b[0m     \"\"\"\n\u001b[1;32m--> 913\u001b[1;33m     fps, tps, thresholds = _binary_clf_curve(\n\u001b[0m\u001b[0;32m    914\u001b[0m         y_true, y_score, pos_label=pos_label, sample_weight=sample_weight)\n\u001b[0;32m    915\u001b[0m \u001b[1;33m\u001b[0m\u001b[0m\n",
      "\u001b[1;32mc:\\Users\\yyyeeeaaahhh\\anaconda3\\lib\\site-packages\\sklearn\\metrics\\_ranking.py\u001b[0m in \u001b[0;36m_binary_clf_curve\u001b[1;34m(y_true, y_score, pos_label, sample_weight)\u001b[0m\n\u001b[0;32m    695\u001b[0m     \u001b[0my_score\u001b[0m \u001b[1;33m=\u001b[0m \u001b[0mcolumn_or_1d\u001b[0m\u001b[1;33m(\u001b[0m\u001b[0my_score\u001b[0m\u001b[1;33m)\u001b[0m\u001b[1;33m\u001b[0m\u001b[1;33m\u001b[0m\u001b[0m\n\u001b[0;32m    696\u001b[0m     \u001b[0massert_all_finite\u001b[0m\u001b[1;33m(\u001b[0m\u001b[0my_true\u001b[0m\u001b[1;33m)\u001b[0m\u001b[1;33m\u001b[0m\u001b[1;33m\u001b[0m\u001b[0m\n\u001b[1;32m--> 697\u001b[1;33m     \u001b[0massert_all_finite\u001b[0m\u001b[1;33m(\u001b[0m\u001b[0my_score\u001b[0m\u001b[1;33m)\u001b[0m\u001b[1;33m\u001b[0m\u001b[1;33m\u001b[0m\u001b[0m\n\u001b[0m\u001b[0;32m    698\u001b[0m \u001b[1;33m\u001b[0m\u001b[0m\n\u001b[0;32m    699\u001b[0m     \u001b[1;32mif\u001b[0m \u001b[0msample_weight\u001b[0m \u001b[1;32mis\u001b[0m \u001b[1;32mnot\u001b[0m \u001b[1;32mNone\u001b[0m\u001b[1;33m:\u001b[0m\u001b[1;33m\u001b[0m\u001b[1;33m\u001b[0m\u001b[0m\n",
      "\u001b[1;32mc:\\Users\\yyyeeeaaahhh\\anaconda3\\lib\\site-packages\\sklearn\\utils\\validation.py\u001b[0m in \u001b[0;36minner_f\u001b[1;34m(*args, **kwargs)\u001b[0m\n\u001b[0;32m     61\u001b[0m             \u001b[0mextra_args\u001b[0m \u001b[1;33m=\u001b[0m \u001b[0mlen\u001b[0m\u001b[1;33m(\u001b[0m\u001b[0margs\u001b[0m\u001b[1;33m)\u001b[0m \u001b[1;33m-\u001b[0m \u001b[0mlen\u001b[0m\u001b[1;33m(\u001b[0m\u001b[0mall_args\u001b[0m\u001b[1;33m)\u001b[0m\u001b[1;33m\u001b[0m\u001b[1;33m\u001b[0m\u001b[0m\n\u001b[0;32m     62\u001b[0m             \u001b[1;32mif\u001b[0m \u001b[0mextra_args\u001b[0m \u001b[1;33m<=\u001b[0m \u001b[1;36m0\u001b[0m\u001b[1;33m:\u001b[0m\u001b[1;33m\u001b[0m\u001b[1;33m\u001b[0m\u001b[0m\n\u001b[1;32m---> 63\u001b[1;33m                 \u001b[1;32mreturn\u001b[0m \u001b[0mf\u001b[0m\u001b[1;33m(\u001b[0m\u001b[1;33m*\u001b[0m\u001b[0margs\u001b[0m\u001b[1;33m,\u001b[0m \u001b[1;33m**\u001b[0m\u001b[0mkwargs\u001b[0m\u001b[1;33m)\u001b[0m\u001b[1;33m\u001b[0m\u001b[1;33m\u001b[0m\u001b[0m\n\u001b[0m\u001b[0;32m     64\u001b[0m \u001b[1;33m\u001b[0m\u001b[0m\n\u001b[0;32m     65\u001b[0m             \u001b[1;31m# extra_args > 0\u001b[0m\u001b[1;33m\u001b[0m\u001b[1;33m\u001b[0m\u001b[1;33m\u001b[0m\u001b[0m\n",
      "\u001b[1;32mc:\\Users\\yyyeeeaaahhh\\anaconda3\\lib\\site-packages\\sklearn\\utils\\validation.py\u001b[0m in \u001b[0;36massert_all_finite\u001b[1;34m(X, allow_nan)\u001b[0m\n\u001b[0;32m    122\u001b[0m     \u001b[0mallow_nan\u001b[0m \u001b[1;33m:\u001b[0m \u001b[0mbool\u001b[0m\u001b[1;33m,\u001b[0m \u001b[0mdefault\u001b[0m\u001b[1;33m=\u001b[0m\u001b[1;32mFalse\u001b[0m\u001b[1;33m\u001b[0m\u001b[1;33m\u001b[0m\u001b[0m\n\u001b[0;32m    123\u001b[0m     \"\"\"\n\u001b[1;32m--> 124\u001b[1;33m     \u001b[0m_assert_all_finite\u001b[0m\u001b[1;33m(\u001b[0m\u001b[0mX\u001b[0m\u001b[1;33m.\u001b[0m\u001b[0mdata\u001b[0m \u001b[1;32mif\u001b[0m \u001b[0msp\u001b[0m\u001b[1;33m.\u001b[0m\u001b[0missparse\u001b[0m\u001b[1;33m(\u001b[0m\u001b[0mX\u001b[0m\u001b[1;33m)\u001b[0m \u001b[1;32melse\u001b[0m \u001b[0mX\u001b[0m\u001b[1;33m,\u001b[0m \u001b[0mallow_nan\u001b[0m\u001b[1;33m)\u001b[0m\u001b[1;33m\u001b[0m\u001b[1;33m\u001b[0m\u001b[0m\n\u001b[0m\u001b[0;32m    125\u001b[0m \u001b[1;33m\u001b[0m\u001b[0m\n\u001b[0;32m    126\u001b[0m \u001b[1;33m\u001b[0m\u001b[0m\n",
      "\u001b[1;32mc:\\Users\\yyyeeeaaahhh\\anaconda3\\lib\\site-packages\\sklearn\\utils\\validation.py\u001b[0m in \u001b[0;36m_assert_all_finite\u001b[1;34m(X, allow_nan, msg_dtype)\u001b[0m\n\u001b[0;32m    101\u001b[0m                 not allow_nan and not np.isfinite(X).all()):\n\u001b[0;32m    102\u001b[0m             \u001b[0mtype_err\u001b[0m \u001b[1;33m=\u001b[0m \u001b[1;34m'infinity'\u001b[0m \u001b[1;32mif\u001b[0m \u001b[0mallow_nan\u001b[0m \u001b[1;32melse\u001b[0m \u001b[1;34m'NaN, infinity'\u001b[0m\u001b[1;33m\u001b[0m\u001b[1;33m\u001b[0m\u001b[0m\n\u001b[1;32m--> 103\u001b[1;33m             raise ValueError(\n\u001b[0m\u001b[0;32m    104\u001b[0m                     \u001b[0mmsg_err\u001b[0m\u001b[1;33m.\u001b[0m\u001b[0mformat\u001b[0m\u001b[1;33m\u001b[0m\u001b[1;33m\u001b[0m\u001b[0m\n\u001b[0;32m    105\u001b[0m                     (type_err,\n",
      "\u001b[1;31mValueError\u001b[0m: Input contains NaN, infinity or a value too large for dtype('float32')."
     ]
    }
   ],
   "source": [
    "checkpointer = ModelCheckpoint(filepath=\"dnn/best_relu_weights.hdf5\", verbose=0)\n",
    "for i in range(5):\n",
    "    model = Sequential(\n",
    "        [\n",
    "            Dense(32, input_dim=x.shape[1], activation='relu'),\n",
    "            Dense(8, activation='relu'),\n",
    "            Dense(y.shape[1], activation='relu')\n",
    "        ]\n",
    "    )\n",
    "\n",
    "    model.compile(loss='categorical_crossentropy', optimizer='adam')\n",
    "    monitor = EarlyStopping(monitor='val_loss', min_delta=2.5e-3, patience=5,\n",
    "        verbose=2, mode='auto')\n",
    "    model.fit(x_train, y_train, validation_data=(x_test, y_test),\n",
    "        callbacks=[monitor,checkpointer], verbose=0, epochs=200)\n",
    "\n",
    "print('Model training has completed. Loading best model.')\n",
    "model.load_weights('./dnn/best_relu_weights.hdf5')\n",
    "\n",
    "pred = np.argmax(model.predict(x_test), axis=1)\n",
    "y_true = np.argmax(y_test, axis=1)\n",
    "\n",
    "print_results(y_true, pred)\n",
    "\n",
    "pred = model.predict(x_test)[:,1]\n",
    "plot_roc(pred, y_true)"
   ]
  },
  {
   "cell_type": "markdown",
   "metadata": {},
   "source": [
    "Series 1, Test 3 - Sigmoid"
   ]
  },
  {
   "cell_type": "code",
   "execution_count": 26,
   "metadata": {},
   "outputs": [
    {
     "name": "stdout",
     "output_type": "stream",
     "text": [
      "Epoch 00018: early stopping\n",
      "Epoch 00019: early stopping\n",
      "Epoch 00020: early stopping\n",
      "Epoch 00018: early stopping\n",
      "Epoch 00023: early stopping\n",
      "Model training has completed. Loading best model.\n",
      "              precision    recall  f1-score   support\n",
      "\n",
      "           0       1.00      1.00      1.00     21938\n",
      "           1       1.00      1.00      1.00     14459\n",
      "\n",
      "    accuracy                           1.00     36397\n",
      "   macro avg       1.00      1.00      1.00     36397\n",
      "weighted avg       1.00      1.00      1.00     36397\n",
      "\n",
      "[[21905    33]\n",
      " [   50 14409]]\n",
      "Plotting confusion matrix\n"
     ]
    },
    {
     "data": {
      "image/png": "[encoded data removed]",
      "text/plain": [
       "<Figure size 432x288 with 2 Axes>"
      ]
     },
     "metadata": {
      "needs_background": "light"
     },
     "output_type": "display_data"
    },
    {
     "data": {
      "image/png": "[encoded data removed]",
      "text/plain": [
       "<Figure size 432x288 with 1 Axes>"
      ]
     },
     "metadata": {
      "needs_background": "light"
     },
     "output_type": "display_data"
    }
   ],
   "source": [
    "checkpointer = ModelCheckpoint(filepath=\"dnn/best_sig_weights.hdf5\", verbose=0)\n",
    "for i in range(5):\n",
    "    model = Sequential(\n",
    "        [\n",
    "            Dense(32, input_dim=x.shape[1], activation='sigmoid'),\n",
    "            Dense(8, activation='sigmoid'),\n",
    "            Dense(y.shape[1], activation='sigmoid')\n",
    "        ]\n",
    "    )\n",
    "\n",
    "    model.compile(loss='categorical_crossentropy', optimizer='adam')\n",
    "    monitor = EarlyStopping(monitor='val_loss', min_delta=2.5e-3, patience=5,\n",
    "        verbose=2, mode='auto')\n",
    "    model.fit(x_train, y_train, validation_data=(x_test, y_test),\n",
    "        callbacks=[monitor,checkpointer], verbose=0, epochs=200)\n",
    "\n",
    "print('Model training has completed. Loading best model.')\n",
    "model.load_weights(\"dnn/best_sig_weights.hdf5\")\n",
    "\n",
    "pred = np.argmax(model.predict(x_test), axis=1)\n",
    "y_true = np.argmax(y_test, axis=1)\n",
    "\n",
    "print_results(y_true, pred)\n",
    "\n",
    "pred = model.predict(x_test)[:,1]\n",
    "plot_roc(pred, y_true)"
   ]
  },
  {
   "cell_type": "markdown",
   "metadata": {},
   "source": [
    "##### Test Series 2 - Optimizers, Layers, Neuron Counts."
   ]
  },
  {
   "cell_type": "markdown",
   "metadata": {},
   "source": [
    "Series 2, Test 1 - Increase layers and neuron counts."
   ]
  },
  {
   "cell_type": "code",
   "execution_count": 34,
   "metadata": {},
   "outputs": [
    {
     "name": "stdout",
     "output_type": "stream",
     "text": [
      "Epoch 00006: early stopping\n",
      "Epoch 00009: early stopping\n",
      "Epoch 00012: early stopping\n",
      "Epoch 00006: early stopping\n",
      "Epoch 00006: early stopping\n",
      "Model training has completed. Loading best model.\n",
      "              precision    recall  f1-score   support\n",
      "\n",
      "           0       0.00      0.00      0.00     21938\n",
      "           1       0.40      1.00      0.57     14459\n",
      "\n",
      "    accuracy                           0.40     36397\n",
      "   macro avg       0.20      0.50      0.28     36397\n",
      "weighted avg       0.16      0.40      0.23     36397\n",
      "\n",
      "[[    0 21938]\n",
      " [    0 14459]]\n",
      "Plotting confusion matrix\n"
     ]
    },
    {
     "name": "stderr",
     "output_type": "stream",
     "text": [
      "c:\\Users\\yyyeeeaaahhh\\anaconda3\\lib\\site-packages\\sklearn\\metrics\\_classification.py:1245: UndefinedMetricWarning: Precision and F-score are ill-defined and being set to 0.0 in labels with no predicted samples. Use `zero_division` parameter to control this behavior.\n",
      "  _warn_prf(average, modifier, msg_start, len(result))\n",
      "c:\\Users\\yyyeeeaaahhh\\anaconda3\\lib\\site-packages\\sklearn\\metrics\\_classification.py:1245: UndefinedMetricWarning: Precision and F-score are ill-defined and being set to 0.0 in labels with no predicted samples. Use `zero_division` parameter to control this behavior.\n",
      "  _warn_prf(average, modifier, msg_start, len(result))\n",
      "c:\\Users\\yyyeeeaaahhh\\anaconda3\\lib\\site-packages\\sklearn\\metrics\\_classification.py:1245: UndefinedMetricWarning: Precision and F-score are ill-defined and being set to 0.0 in labels with no predicted samples. Use `zero_division` parameter to control this behavior.\n",
      "  _warn_prf(average, modifier, msg_start, len(result))\n"
     ]
    },
    {
     "data": {
      "image/png": "[encoded data removed]",
      "text/plain": [
       "<Figure size 432x288 with 2 Axes>"
      ]
     },
     "metadata": {
      "needs_background": "light"
     },
     "output_type": "display_data"
    },
    {
     "data": {
      "image/png": "[encoded data removed]",
      "text/plain": [
       "<Figure size 432x288 with 1 Axes>"
      ]
     },
     "metadata": {
      "needs_background": "light"
     },
     "output_type": "display_data"
    }
   ],
   "source": [
    "checkpointer = ModelCheckpoint(filepath=\"dnn/best_tanh_weights2.hdf5\", verbose=0)\n",
    "for i in range(5):\n",
    "    model = Sequential(\n",
    "        [\n",
    "            Dense(128, input_dim=x.shape[1], activation='tanh'),\n",
    "            Dense(64, activation='tanh'),\n",
    "            Dense(12, activation='tanh'),\n",
    "            Dense(y.shape[1], activation='tanh')\n",
    "        ]\n",
    "    )\n",
    "\n",
    "    model.compile(loss='categorical_crossentropy', optimizer='sgd')\n",
    "    monitor = EarlyStopping(monitor='val_loss', min_delta=2.5e-3, patience=5,\n",
    "        verbose=2, mode='auto')\n",
    "    model.fit(x_train, y_train, validation_data=(x_test, y_test),\n",
    "        callbacks=[monitor,checkpointer], verbose=0, epochs=200)\n",
    "\n",
    "print('Model training has completed. Loading best model.')\n",
    "model.load_weights(\"dnn/best_tanh_weights2.hdf5\")\n",
    "\n",
    "pred = np.argmax(model.predict(x_test), axis=1)\n",
    "y_true = np.argmax(y_test, axis=1)\n",
    "\n",
    "print_results(y_true, pred)\n",
    "\n",
    "#test\n",
    "pred = model.predict(x_test)[:,1]\n",
    "plot_roc(pred, y_true)"
   ]
  },
  {
   "cell_type": "markdown",
   "metadata": {},
   "source": [
    "Series 2, Test 2 - Reduce neuron count from previous test and attempt to use relu activation in at least one layer."
   ]
  },
  {
   "cell_type": "code",
   "execution_count": 54,
   "metadata": {},
   "outputs": [
    {
     "name": "stdout",
     "output_type": "stream",
     "text": [
      "Epoch 00005: early stopping\n",
      "Epoch 00006: early stopping\n",
      "Epoch 00005: early stopping\n",
      "Epoch 00006: early stopping\n",
      "Epoch 00006: early stopping\n",
      "Model training has completed. Loading best model.\n",
      "              precision    recall  f1-score   support\n",
      "\n",
      "           0       0.60      1.00      0.75     21938\n",
      "           1       0.00      0.00      0.00     14459\n",
      "\n",
      "    accuracy                           0.60     36397\n",
      "   macro avg       0.30      0.50      0.38     36397\n",
      "weighted avg       0.36      0.60      0.45     36397\n",
      "\n",
      "[[21938     0]\n",
      " [14459     0]]\n",
      "Plotting confusion matrix\n"
     ]
    },
    {
     "name": "stderr",
     "output_type": "stream",
     "text": [
      "c:\\Users\\yyyeeeaaahhh\\anaconda3\\lib\\site-packages\\sklearn\\metrics\\_classification.py:1245: UndefinedMetricWarning: Precision and F-score are ill-defined and being set to 0.0 in labels with no predicted samples. Use `zero_division` parameter to control this behavior.\n",
      "  _warn_prf(average, modifier, msg_start, len(result))\n",
      "c:\\Users\\yyyeeeaaahhh\\anaconda3\\lib\\site-packages\\sklearn\\metrics\\_classification.py:1245: UndefinedMetricWarning: Precision and F-score are ill-defined and being set to 0.0 in labels with no predicted samples. Use `zero_division` parameter to control this behavior.\n",
      "  _warn_prf(average, modifier, msg_start, len(result))\n",
      "c:\\Users\\yyyeeeaaahhh\\anaconda3\\lib\\site-packages\\sklearn\\metrics\\_classification.py:1245: UndefinedMetricWarning: Precision and F-score are ill-defined and being set to 0.0 in labels with no predicted samples. Use `zero_division` parameter to control this behavior.\n",
      "  _warn_prf(average, modifier, msg_start, len(result))\n"
     ]
    },
    {
     "data": {
      "image/png": "[encoded data removed]",
      "text/plain": [
       "<Figure size 432x288 with 2 Axes>"
      ]
     },
     "metadata": {
      "needs_background": "light"
     },
     "output_type": "display_data"
    },
    {
     "data": {
      "image/png": "[encoded data removed]",
      "text/plain": [
       "<Figure size 432x288 with 1 Axes>"
      ]
     },
     "metadata": {
      "needs_background": "light"
     },
     "output_type": "display_data"
    }
   ],
   "source": [
    "checkpointer = ModelCheckpoint(filepath=\"dnn/best_tanh_weights3.hdf5\", verbose=0)\n",
    "for i in range(5):\n",
    "    model = Sequential(\n",
    "        [\n",
    "            Dense(48, input_dim=x.shape[1], activation='sigmoid'),\n",
    "            Dense(16, activation='tanh'),\n",
    "            Dense(y.shape[1], activation='relu')\n",
    "        ]\n",
    "    )\n",
    "\n",
    "    sgd = optimizers.SGD(lr=0.005, momentum=0.9, nesterov=True)\n",
    "    model.compile(loss='categorical_crossentropy', optimizer=sgd)\n",
    "    monitor = EarlyStopping(monitor='val_loss', min_delta=2.5e-3, patience=5,\n",
    "        verbose=2, mode='auto')\n",
    "    model.fit(x_train, y_train, validation_data=(x_test, y_test),\n",
    "        callbacks=[monitor,checkpointer], verbose=0, epochs=200)\n",
    "\n",
    "print('Model training has completed. Loading best model.')\n",
    "model.load_weights(\"dnn/best_tanh_weights3.hdf5\")\n",
    "\n",
    "pred = np.argmax(model.predict(x_test), axis=1)\n",
    "y_true = np.argmax(y_test, axis=1)\n",
    "\n",
    "print_results(y_true, pred)\n",
    "\n",
    "pred = model.predict(x_test)[:,1]\n",
    "plot_roc(pred, y_true)"
   ]
  }
 ],
 "metadata": {
  "kernelspec": {
   "display_name": "Python 3",
   "language": "python",
   "name": "python3"
  },
  "language_info": {
   "codemirror_mode": {
    "name": "ipython",
    "version": 3
   },
   "file_extension": ".py",
   "mimetype": "text/x-python",
   "name": "python",
   "nbconvert_exporter": "python",
   "pygments_lexer": "ipython3",
   "version": "3.8.8"
  },
  "vscode": {
   "interpreter": {
    "hash": "ec1aaa141856d4c0de3a518159f5dfe5fa3cd6cbaa8c96839a861b8ddd6b4860"
   }
  }
 },
 "nbformat": 4,
 "nbformat_minor": 2
}
