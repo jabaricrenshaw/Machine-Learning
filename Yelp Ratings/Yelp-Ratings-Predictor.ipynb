{
 "cells": [
  {
   "cell_type": "markdown",
   "metadata": {},
   "source": [
    "## Jabari Crenshaw\n",
    "#### CSC 180, Intellgent Systems\n",
    "#### Prof. Chen\n",
    "#### Project 1"
   ]
  },
  {
   "cell_type": "markdown",
   "metadata": {},
   "source": [
    "### 0. Imports\n",
    "We will begin by doing some necessary import statements, and including a function we will use to plot our model lift chart."
   ]
  },
  {
   "cell_type": "code",
   "execution_count": 4,
   "metadata": {},
   "outputs": [],
   "source": [
    "import os\n",
    "import pandas as pd\n",
    "import numpy as np\n",
    "\n",
    "import tensorflow\n",
    "from tensorflow.keras.callbacks import ModelCheckpoint, EarlyStopping\n",
    "from tensorflow.keras.layers import Dense, Activation\n",
    "from tensorflow.keras.models import Sequential\n",
    "from tensorflow.keras import layers\n",
    "\n",
    "from sklearn import metrics\n",
    "from sklearn.model_selection import train_test_split\n",
    "import sklearn.feature_extraction.text as sk_text\n",
    "\n",
    "import matplotlib.pyplot as plt\n",
    "from matplotlib.pyplot import figure, show\n",
    "\n",
    "from collections.abc import Sequence\n",
    "\n",
    "path = \"./data/\"\n",
    "\n",
    "def chart_regression(pred,y,sort=True):\n",
    "    t = pd.DataFrame({'pred' : pred, 'y' : y.flatten()})\n",
    "    if sort:\n",
    "        t.sort_values(by=['y'],inplace=True)\n",
    "    a = plt.plot(t['y'].tolist(),label='expected')\n",
    "    b = plt.plot(t['pred'].tolist(),label='prediction')\n",
    "    plt.ylabel('output')\n",
    "    plt.legend()\n",
    "    plt.show()"
   ]
  },
  {
   "cell_type": "markdown",
   "metadata": {},
   "source": [
    "### 1. Reading Review CSV data\n",
    "##### We will first read all the data we have for reviews. We will also remove attributes of reviews that are not useful for this project."
   ]
  },
  {
   "cell_type": "code",
   "execution_count": 9,
   "metadata": {},
   "outputs": [
    {
     "data": {
      "text/html": [
       "<div>\n",
       "<style scoped>\n",
       "    .dataframe tbody tr th:only-of-type {\n",
       "        vertical-align: middle;\n",
       "    }\n",
       "\n",
       "    .dataframe tbody tr th {\n",
       "        vertical-align: top;\n",
       "    }\n",
       "\n",
       "    .dataframe thead th {\n",
       "        text-align: right;\n",
       "    }\n",
       "</style>\n",
       "<table border=\"1\" class=\"dataframe\">\n",
       "  <thead>\n",
       "    <tr style=\"text-align: right;\">\n",
       "      <th></th>\n",
       "      <th>business_id</th>\n",
       "      <th>stars</th>\n",
       "      <th>text</th>\n",
       "    </tr>\n",
       "  </thead>\n",
       "  <tbody>\n",
       "    <tr>\n",
       "      <th>0</th>\n",
       "      <td>XQfwVwDr-v0ZS3_CbbE5Xw</td>\n",
       "      <td>3.0</td>\n",
       "      <td>If you decide to eat here, just be aware it is...</td>\n",
       "    </tr>\n",
       "    <tr>\n",
       "      <th>1</th>\n",
       "      <td>7ATYjTIgM3jUlt4UM3IypQ</td>\n",
       "      <td>5.0</td>\n",
       "      <td>I've taken a lot of spin classes over the year...</td>\n",
       "    </tr>\n",
       "    <tr>\n",
       "      <th>2</th>\n",
       "      <td>YjUWPpI6HXG530lwP-fb2A</td>\n",
       "      <td>3.0</td>\n",
       "      <td>Family diner. Had the buffet. Eclectic assortm...</td>\n",
       "    </tr>\n",
       "    <tr>\n",
       "      <th>3</th>\n",
       "      <td>kxX2SOes4o-D3ZQBkiMRfA</td>\n",
       "      <td>5.0</td>\n",
       "      <td>Wow!  Yummy, different,  delicious.   Our favo...</td>\n",
       "    </tr>\n",
       "    <tr>\n",
       "      <th>4</th>\n",
       "      <td>e4Vwtrqf-wpJfwesgvdgxQ</td>\n",
       "      <td>4.0</td>\n",
       "      <td>Cute interior and owner (?) gave us tour of up...</td>\n",
       "    </tr>\n",
       "  </tbody>\n",
       "</table>\n",
       "</div>"
      ],
      "text/plain": [
       "              business_id  stars  \\\n",
       "0  XQfwVwDr-v0ZS3_CbbE5Xw    3.0   \n",
       "1  7ATYjTIgM3jUlt4UM3IypQ    5.0   \n",
       "2  YjUWPpI6HXG530lwP-fb2A    3.0   \n",
       "3  kxX2SOes4o-D3ZQBkiMRfA    5.0   \n",
       "4  e4Vwtrqf-wpJfwesgvdgxQ    4.0   \n",
       "\n",
       "                                                text  \n",
       "0  If you decide to eat here, just be aware it is...  \n",
       "1  I've taken a lot of spin classes over the year...  \n",
       "2  Family diner. Had the buffet. Eclectic assortm...  \n",
       "3  Wow!  Yummy, different,  delicious.   Our favo...  \n",
       "4  Cute interior and owner (?) gave us tour of up...  "
      ]
     },
     "execution_count": 9,
     "metadata": {},
     "output_type": "execute_result"
    }
   ],
   "source": [
    "review_data = os.path.join(path, 'yelp_academic_dataset_review.csv')\n",
    "df_review = pd.read_csv(review_data)\n",
    "\n",
    "df_review.drop(['review_id', 'user_id', 'useful', 'funny', 'cool', 'date'],\n",
    "    axis=1, inplace=True)\n",
    "\n",
    "df_review.head()"
   ]
  },
  {
   "cell_type": "markdown",
   "metadata": {},
   "source": [
    "### 3. Reading Business CSV data\n",
    "##### We will read all the data we have for businesses and remove all businesses that have a review count less than 20. We will also remove attributes of businesses that are not useful in this project."
   ]
  },
  {
   "cell_type": "code",
   "execution_count": 7,
   "metadata": {},
   "outputs": [
    {
     "data": {
      "text/html": [
       "<div>\n",
       "<style scoped>\n",
       "    .dataframe tbody tr th:only-of-type {\n",
       "        vertical-align: middle;\n",
       "    }\n",
       "\n",
       "    .dataframe tbody tr th {\n",
       "        vertical-align: top;\n",
       "    }\n",
       "\n",
       "    .dataframe thead th {\n",
       "        text-align: right;\n",
       "    }\n",
       "</style>\n",
       "<table border=\"1\" class=\"dataframe\">\n",
       "  <thead>\n",
       "    <tr style=\"text-align: right;\">\n",
       "      <th></th>\n",
       "      <th>business_id</th>\n",
       "      <th>name</th>\n",
       "      <th>stars</th>\n",
       "    </tr>\n",
       "  </thead>\n",
       "  <tbody>\n",
       "    <tr>\n",
       "      <th>2</th>\n",
       "      <td>tUFrWirKiKi_TAnsVWINQQ</td>\n",
       "      <td>Target</td>\n",
       "      <td>3.5</td>\n",
       "    </tr>\n",
       "    <tr>\n",
       "      <th>3</th>\n",
       "      <td>MTSW4McQd7CbVtyjqoe9mw</td>\n",
       "      <td>St Honore Pastries</td>\n",
       "      <td>4.0</td>\n",
       "    </tr>\n",
       "    <tr>\n",
       "      <th>12</th>\n",
       "      <td>il_Ro8jwPlHresjw9EGmBg</td>\n",
       "      <td>Denny's</td>\n",
       "      <td>2.5</td>\n",
       "    </tr>\n",
       "    <tr>\n",
       "      <th>14</th>\n",
       "      <td>0bPLkL0QhhPO5kt1_EXmNQ</td>\n",
       "      <td>Zio's Italian Market</td>\n",
       "      <td>4.5</td>\n",
       "    </tr>\n",
       "    <tr>\n",
       "      <th>15</th>\n",
       "      <td>MUTTqe8uqyMdBl186RmNeA</td>\n",
       "      <td>Tuna Bar</td>\n",
       "      <td>4.0</td>\n",
       "    </tr>\n",
       "  </tbody>\n",
       "</table>\n",
       "</div>"
      ],
      "text/plain": [
       "               business_id                  name  stars\n",
       "2   tUFrWirKiKi_TAnsVWINQQ                Target    3.5\n",
       "3   MTSW4McQd7CbVtyjqoe9mw    St Honore Pastries    4.0\n",
       "12  il_Ro8jwPlHresjw9EGmBg               Denny's    2.5\n",
       "14  0bPLkL0QhhPO5kt1_EXmNQ  Zio's Italian Market    4.5\n",
       "15  MUTTqe8uqyMdBl186RmNeA              Tuna Bar    4.0"
      ]
     },
     "execution_count": 7,
     "metadata": {},
     "output_type": "execute_result"
    }
   ],
   "source": [
    "business_data = os.path.join(path, 'yelp_academic_dataset_business.csv')\n",
    "df_business = pd.read_csv(business_data)\n",
    "\n",
    "df_business.drop(['address', 'city', 'state', 'postal_code', 'latitude', 'longitude',\n",
    "    'is_open', 'attributes', 'categories', 'hours'], axis=1, inplace=True)\n",
    "\n",
    "df_business = df_business[df_business['review_count'] >= 20]\n",
    "\n",
    "df_business.drop(['review_count'], axis=1, inplace=True)\n",
    "\n",
    "df_business.head()"
   ]
  },
  {
   "cell_type": "markdown",
   "metadata": {},
   "source": [
    "### 4. More preprocessing steps for our model.\n",
    "##### 1) We create a Pandas Series (df_review_agg) that combines all the reviews of each business.\n",
    "##### 2) We create another Pandas Series (df_review_average_stars) that is the mean rating value of reviews for each business.\n",
    "##### 3) We create a Pandas DataFrame (df_ready_for_sklearn) that holds the business_id of all business and the review text sum for each business."
   ]
  },
  {
   "cell_type": "code",
   "execution_count": 11,
   "metadata": {},
   "outputs": [
    {
     "data": {
      "text/html": [
       "<div>\n",
       "<style scoped>\n",
       "    .dataframe tbody tr th:only-of-type {\n",
       "        vertical-align: middle;\n",
       "    }\n",
       "\n",
       "    .dataframe tbody tr th {\n",
       "        vertical-align: top;\n",
       "    }\n",
       "\n",
       "    .dataframe thead th {\n",
       "        text-align: right;\n",
       "    }\n",
       "</style>\n",
       "<table border=\"1\" class=\"dataframe\">\n",
       "  <thead>\n",
       "    <tr style=\"text-align: right;\">\n",
       "      <th></th>\n",
       "      <th>business_id</th>\n",
       "      <th>all_reviews</th>\n",
       "    </tr>\n",
       "  </thead>\n",
       "  <tbody>\n",
       "    <tr>\n",
       "      <th>0</th>\n",
       "      <td>---kPU91CF4Lq2-WlRu9Lw</td>\n",
       "      <td>Ate here for the 1st time on Saturday 08/07/20...</td>\n",
       "    </tr>\n",
       "    <tr>\n",
       "      <th>1</th>\n",
       "      <td>--0iUa4sNDFiZFrAdIWhZQ</td>\n",
       "      <td>Very good San Salvadorian place ! Authentic an...</td>\n",
       "    </tr>\n",
       "    <tr>\n",
       "      <th>2</th>\n",
       "      <td>--30_8IhuyMHbSOcNWd6DQ</td>\n",
       "      <td>We stopped going to Action Karate in December ...</td>\n",
       "    </tr>\n",
       "    <tr>\n",
       "      <th>3</th>\n",
       "      <td>--7PUidqRWpRSpXebiyxTg</td>\n",
       "      <td>This place is disgusting, and proof that Edmon...</td>\n",
       "    </tr>\n",
       "    <tr>\n",
       "      <th>4</th>\n",
       "      <td>--7jw19RH9JKXgFohspgQw</td>\n",
       "      <td>This is the best dentist in the area, hands do...</td>\n",
       "    </tr>\n",
       "  </tbody>\n",
       "</table>\n",
       "</div>"
      ],
      "text/plain": [
       "              business_id                                        all_reviews\n",
       "0  ---kPU91CF4Lq2-WlRu9Lw  Ate here for the 1st time on Saturday 08/07/20...\n",
       "1  --0iUa4sNDFiZFrAdIWhZQ  Very good San Salvadorian place ! Authentic an...\n",
       "2  --30_8IhuyMHbSOcNWd6DQ  We stopped going to Action Karate in December ...\n",
       "3  --7PUidqRWpRSpXebiyxTg  This place is disgusting, and proof that Edmon...\n",
       "4  --7jw19RH9JKXgFohspgQw  This is the best dentist in the area, hands do..."
      ]
     },
     "execution_count": 11,
     "metadata": {},
     "output_type": "execute_result"
    }
   ],
   "source": [
    "df_review_agg = df_review.groupby('business_id')['text'].sum()\n",
    "df_review_average_stars = df_review.groupby('business_id')['stars'].mean()\n",
    "\n",
    "df_ready_for_sklearn = pd.DataFrame({'business_id': df_review_agg.index,\n",
    "                                    'all_reviews': df_review_agg.values})\n",
    "\n",
    "df_review_average_stars.head()\n",
    "df_ready_for_sklearn.head()"
   ]
  },
  {
   "cell_type": "markdown",
   "metadata": {},
   "source": [
    "### 5. Feature Extraction using TfidfVectorizer.\n",
    "##### We will use this function to extract feature names from the reviews of all businesses. This function will provide us a list of feature names and the corresponding TF-IDF matrix."
   ]
  },
  {
   "cell_type": "code",
   "execution_count": 13,
   "metadata": {},
   "outputs": [
    {
     "data": {
      "text/plain": [
       "(150346, 1576)"
      ]
     },
     "execution_count": 13,
     "metadata": {},
     "output_type": "execute_result"
    }
   ],
   "source": [
    "vectorizer = sk_text.TfidfVectorizer(min_df=.1, max_df=.85, stop_words='english',\n",
    "                    lowercase=True, analyzer='word')\n",
    "\n",
    "matrix = vectorizer.fit_transform(df_ready_for_sklearn['all_reviews'])\n",
    "\n",
    "feature_names = vectorizer.get_feature_names\n",
    "tfidf_data = matrix.toarray()\n",
    "\n",
    "feature_names\n",
    "\n",
    "tfidf_data\n",
    "tfidf_data.shape"
   ]
  },
  {
   "cell_type": "markdown",
   "metadata": {},
   "source": [
    "### 6. Model Creation\n",
    "##### At this point, we have evverything we need to begin training a model. We will supply this model with our TF-IDF data and mean star rating for each business.\n",
    "##### This a regression model, in which the goal is to make predictions on the ratings on every business, given the TF-IDF data. Our reference of the model's accuracy is the mean star rating for each business."
   ]
  },
  {
   "cell_type": "code",
   "execution_count": 18,
   "metadata": {},
   "outputs": [
    {
     "name": "stdout",
     "output_type": "stream",
     "text": [
      "Epoch 1/200\n",
      "4694/4694 - 3s - loss: 0.6912 - val_loss: 0.2173\n",
      "Epoch 2/200\n",
      "4694/4694 - 3s - loss: 0.2253 - val_loss: 0.1779\n",
      "Epoch 3/200\n",
      "4694/4694 - 3s - loss: 0.1848 - val_loss: 0.1461\n",
      "Epoch 4/200\n",
      "4694/4694 - 3s - loss: 0.1724 - val_loss: 0.1413\n",
      "Epoch 5/200\n",
      "4694/4694 - 3s - loss: 0.1668 - val_loss: 0.1332\n",
      "Epoch 6/200\n",
      "4694/4694 - 3s - loss: 0.1628 - val_loss: 0.1765\n",
      "Epoch 7/200\n",
      "4694/4694 - 3s - loss: 0.1604 - val_loss: 0.1350\n",
      "Epoch 8/200\n",
      "4694/4694 - 3s - loss: 0.1586 - val_loss: 0.1342\n",
      "Epoch 00008: early stopping\n"
     ]
    },
    {
     "data": {
      "text/plain": [
       "<tensorflow.python.keras.callbacks.History at 0x1721dbbc6a0>"
      ]
     },
     "execution_count": 18,
     "metadata": {},
     "output_type": "execute_result"
    }
   ],
   "source": [
    "x_train, x_test, y_train, y_test = train_test_split(tfidf_data, df_review_average_stars.values,\n",
    "                        test_size=0.001, random_state=42)\n",
    "\n",
    "model = Sequential(\n",
    "    [\n",
    "        layers.Dense(64, input_dim=tfidf_data.shape[1], activation='sigmoid', name='h_layer1'),\n",
    "        layers.Dense(32, activation='tanh', name='h_layer2'),\n",
    "        layers.Dense(1, name='o_layer')\n",
    "    ]\n",
    ")\n",
    "\n",
    "model.compile(loss='mean_squared_error', optimizer='sgd')\n",
    "\n",
    "monitor = EarlyStopping(monitor='val_loss', min_delta=6e-2, patience=5, verbose=2, mode='auto')\n",
    "\n",
    "model.fit(x_train, y_train, validation_data=(x_test, y_test), callbacks=[monitor], verbose=2,\n",
    "        epochs=200)"
   ]
  },
  {
   "cell_type": "markdown",
   "metadata": {},
   "source": [
    "### 7. Evaluating Model Results\n",
    "##### At this stage, the model should have produced some results. We will print the RMSE and lift chart."
   ]
  },
  {
   "cell_type": "code",
   "execution_count": 19,
   "metadata": {},
   "outputs": [
    {
     "name": "stdout",
     "output_type": "stream",
     "text": [
      "1) 'Target' rating=3.5, Predicted rating=[3.8631315]\n",
      "2) 'St Honore Pastries' rating=4.0, Predicted rating=[3.9317281]\n",
      "3) 'Denny's' rating=2.5, Predicted rating=[3.6173818]\n",
      "4) 'Zio's Italian Market' rating=4.5, Predicted rating=[3.2083383]\n",
      "5) 'Tuna Bar' rating=4.0, Predicted rating=[3.6177375]\n",
      "6) 'BAP' rating=4.5, Predicted rating=[2.7951422]\n",
      "7) 'Roast Coffeehouse and Wine Bar' rating=4.0, Predicted rating=[4.0664463]\n",
      "8) 'Barnes & Noble Booksellers' rating=4.0, Predicted rating=[3.6098762]\n",
      "9) 'Hibachi Express' rating=4.0, Predicted rating=[3.1802683]\n",
      "10) 'Romano's Macaroni Grill' rating=2.5, Predicted rating=[3.923147]\n",
      "Score (RMSE): 0.3663066556047259\n"
     ]
    },
    {
     "data": {
      "image/png": "[encoded data removed]",
      "text/plain": [
       "<Figure size 432x288 with 1 Axes>"
      ]
     },
     "metadata": {
      "needs_background": "light"
     },
     "output_type": "display_data"
    }
   ],
   "source": [
    "pred = model.predict(x_test)\n",
    "score = np.sqrt(metrics.mean_squared_error(pred, y_test))\n",
    "\n",
    "for i in range(10):\n",
    "        #print('{}: Stars:{}, -> Predicted:{} for business:{}'.format(i, y_train[i], pred[i], origin.iloc[i]['name']))\n",
    "        print('{}) \\'{}\\' rating={}, Predicted rating={}'. format(i+1,df_business.iloc[i]['name'],df_business.iloc[i]['stars'],pred[i]))\n",
    "\n",
    "print(f'Score (RMSE): {score}')\n",
    "\n",
    "chart_regression(pred.flatten(), y_test, sort=True)"
   ]
  }
 ],
 "metadata": {
  "kernelspec": {
   "display_name": "Python 3",
   "language": "python",
   "name": "python3"
  },
  "language_info": {
   "codemirror_mode": {
    "name": "ipython",
    "version": 3
   },
   "file_extension": ".py",
   "mimetype": "text/x-python",
   "name": "python",
   "nbconvert_exporter": "python",
   "pygments_lexer": "ipython3",
   "version": "3.8.8"
  },
  "vscode": {
   "interpreter": {
    "hash": "ec1aaa141856d4c0de3a518159f5dfe5fa3cd6cbaa8c96839a861b8ddd6b4860"
   }
  }
 },
 "nbformat": 4,
 "nbformat_minor": 2
}
